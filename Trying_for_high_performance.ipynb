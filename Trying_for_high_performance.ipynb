{
  "nbformat": 4,
  "nbformat_minor": 0,
  "metadata": {
    "colab": {
      "name": "Trying for high performance.ipynb",
      "provenance": [],
      "collapsed_sections": []
    },
    "kernelspec": {
      "name": "python3",
      "display_name": "Python 3"
    }
  },
  "cells": [
    {
      "cell_type": "markdown",
      "metadata": {
        "id": "Qt6Y3jyKhrUZ",
        "colab_type": "text"
      },
      "source": [
        "# 성능올리기 위한 시도한 과정들"
      ]
    },
    {
      "cell_type": "markdown",
      "metadata": {
        "id": "4FlrpoxZiR0J",
        "colab_type": "text"
      },
      "source": [
        "***1. Augmentation***\n",
        "\n",
        "1.   좌우반전 이미지 생성\n",
        "2.   -20~20도 5도씩 돌려서 이미지 생성\n",
        "\n",
        "\n",
        "여러이미지를 생성\n"
      ]
    },
    {
      "cell_type": "code",
      "metadata": {
        "id": "5jHFA3ushq2C",
        "colab_type": "code",
        "colab": {}
      },
      "source": [
        "DATA_ROOT_TRAIN=\"/content/drive/My Drive/2019-ml-finalproject/train\"\n",
        "train_des=list()\n",
        "train_labels=list()\n",
        "\n",
        "\n",
        "for cls in tqdm(os.listdir(DATA_ROOT_TRAIN)): #진행도를 알려줌\n",
        "  img_list = os.listdir(DATA_ROOT_TRAIN+'/'+cls)\n",
        "  \n",
        "\n",
        "  #백그라운드 적용 or 적용x\n",
        "  \n",
        "  if cls == 'BACKGROUND_Google' :\n",
        "    label= 102\n",
        "  else :\n",
        "    label=(df_data.index[df_data[1]==cls]+1).tolist()[0]\n",
        "\n",
        "  if cls == 'BACKGROUND_Google' :\n",
        "    continue\n",
        "  for img in img_list:\n",
        "\n",
        "    image=Image.open(DATA_ROOT_TRAIN+'/'+cls+'/'+img)\n",
        "    gray=image.convert(\"L\") \n",
        "    for ang in range(-20, 20, 5):\n",
        "      img2 = gray.rotate(ang)\n",
        "      data = np.asarray(img2)\n",
        "      train_des.append(data)\n",
        "      train_labels.append(label)\n",
        "      # 반전하기\n",
        "    if cls != 'stop_sign':\n",
        "      img2 = gray.transpose(Image.FLIP_LEFT_RIGHT)\n",
        "      data = np.asarray(img2)\n",
        "      train_des.append(data)\n",
        "      train_labels.append(label)\n"
      ],
      "execution_count": 0,
      "outputs": []
    },
    {
      "cell_type": "markdown",
      "metadata": {
        "id": "Grnv1jjTiyBg",
        "colab_type": "text"
      },
      "source": [
        "**2. PCA**\n",
        "\n",
        "  SIFT 적용 불가"
      ]
    },
    {
      "cell_type": "code",
      "metadata": {
        "id": "vJnxClAckMzH",
        "colab_type": "code",
        "colab": {}
      },
      "source": [
        "from sklearn.decomposition import PCA\n",
        "pca=PCA(200)\n",
        "\n",
        "for i in range(len(train_des)):\n",
        "  train_des[i]=np.ravel(train_des[i])\n",
        "    \n",
        "print(np.shape(train_des[4]))\n",
        "\n",
        "\n",
        "gray=pca.fit_transform(train_des)\n",
        "gray=pca.inverse_transform(gray)\n",
        "print(np.shape(gray))\n",
        "\n",
        "plt.imshow(gray[5].reshape(256,256),cmap='gray')"
      ],
      "execution_count": 0,
      "outputs": []
    },
    {
      "cell_type": "markdown",
      "metadata": {
        "id": "ozJHEeCBk5NV",
        "colab_type": "text"
      },
      "source": [
        "**3. Spatial Pyramid Matching**"
      ]
    },
    {
      "cell_type": "code",
      "metadata": {
        "id": "_G8LUk_fmBRw",
        "colab_type": "code",
        "colab": {}
      },
      "source": [
        "from sklearn.svm import SVC\n",
        "\n",
        "def histogramIntersection(M, N):\n",
        "    m = M.shape[0]\n",
        "    n = N.shape[0]\n",
        "    result = np.zeros((m,n))\n",
        "    for i in range(m):\n",
        "        if i%100==1:\n",
        "          print(i,\"번째 실행중\")\n",
        "        for j in range(n):\n",
        "            temp = np.sum(np.minimum(M[i], N[j]))\n",
        "            result[i][j] = temp\n",
        "    return result\n",
        "gramMatrix = histogramIntersection(final_histo1, final_histo1)\n",
        "print(gramMatrix.shape)\n",
        "print(np.shape(final_label1))\n",
        "final_clf = SVC(kernel='precomputed',C=1)\n",
        "final_clf.fit(gramMatrix,final_label1)\n",
        "predictMatrix = histogramIntersection(final_test_histo1, final_histo1)\n",
        "result=final_clf.predict(predictMatrix)"
      ],
      "execution_count": 0,
      "outputs": []
    },
    {
      "cell_type": "code",
      "metadata": {
        "id": "NJ952IEHmFyf",
        "colab_type": "code",
        "colab": {}
      },
      "source": [
        "predictMatrix = histogramIntersection(final_test_histo1, final_histo1)\n",
        "result=final_clf.predict(predictMatrix)"
      ],
      "execution_count": 0,
      "outputs": []
    },
    {
      "cell_type": "code",
      "metadata": {
        "id": "3ZPZqR7ok-M-",
        "colab_type": "code",
        "colab": {}
      },
      "source": [
        "import math\n",
        "\n",
        "def extract_denseSIFT(img):\n",
        "    disft_step_size = 8\n",
        "    sift = cv2.xfeatures2d.SIFT_create()\n",
        "\n",
        "    keypoints = [cv2.KeyPoint(x, y, disft_step_size)\n",
        "            for y in range(0, img.shape[0], disft_step_size)\n",
        "                for x in range(0, img.shape[1], disft_step_size)]\n",
        "    #strong feature\n",
        "    descriptors = sift.compute(img, keypoints)[1]\n",
        "    return descriptors\n",
        "\n",
        "\n",
        "def getImageFeaturesSPM(L, img, kmeans, k):\n",
        "    W = img.shape[1]\n",
        "    H = img.shape[0]   \n",
        "    h = []\n",
        "    #h= np.zeros(k)\n",
        "\n",
        "    for l in range(L+1):\n",
        "        w_step = math.floor(W/(2**l))\n",
        "        h_step = math.floor(H/(2**l))\n",
        "        x, y = 0, 0\n",
        "        for i in range(1,2**l + 1):\n",
        "            x = 0\n",
        "            for j in range(1, 2**l + 1):                \n",
        "                desc= extract_denseSIFT(img[y:y+h_step, x:x+w_step])\n",
        "\n",
        "                predict = kmeans.predict(desc)\n",
        "                histo = np.bincount(predict, minlength=k).reshape(1,-1).ravel()\n",
        "                #single level이 아닌 각 레벨마다 가중치부여\n",
        "                #lv0: 1/4 lv1 : 1/4 lv2 : 1/2\n",
        "                if l==0:\n",
        "                  weight=2**(-2) \n",
        "                else:\n",
        "                  weight = 2**(l-L-1) \n",
        "\n",
        "                #히스토그램 쭉 붙여서 SVM 돌리기\n",
        "                h.append(weight*histo)\n",
        "\n",
        "                #히스토그램 쌓아서 SVM 돌리기\n",
        "                #h+=weight*histo\n",
        "                x = x + w_step\n",
        "            y = y + h_step\n",
        "            \n",
        "    hist = np.array(h).ravel()\n",
        "    # 정규화 하기 or 안하기\n",
        "    '''\n",
        "    dev = np.std(hist)\n",
        "    hist -= np.mean(hist)\n",
        "    hist /= dev\n",
        "    '''\n",
        "\n",
        "    return hist\n",
        "\n",
        "def getHistogramSPM(L, data, kmeans, k):    \n",
        "    x = []\n",
        "    for i in (range(len(data))):\n",
        "        if i%100==1:\n",
        "          print(i,\"번째 실행중\")\n",
        "        hist = getImageFeaturesSPM(L, data[i], kmeans, k)        \n",
        "        x.append(hist)\n",
        "    return np.array(x)"
      ],
      "execution_count": 0,
      "outputs": []
    },
    {
      "cell_type": "code",
      "metadata": {
        "id": "yV4kBDDkmORf",
        "colab_type": "code",
        "colab": {}
      },
      "source": [
        "with open('/content/drive/My Drive/2019-ml-finalproject/test_des.pickle', 'rb') as f:\n",
        "    test_des = pickle.load(f)\n",
        "print(np.shape(test_des[0]))\n",
        "final_test_histo1 = getHistogramSPM(2, test_des, kmeans1, k)\n",
        "final_histo1=getHistogramSPM(2,train_des1,kmeans1,k)\n"
      ],
      "execution_count": 0,
      "outputs": []
    },
    {
      "cell_type": "code",
      "metadata": {
        "id": "HgpKFFwrmmcE",
        "colab_type": "code",
        "colab": {}
      },
      "source": [
        "clf = LinearSVC(random_state=0, C=0.0004304,class_weight='balanced')\n",
        "clf.fit(final_histo1,final_label1)\n",
        "\n",
        "result=clf.predict(final_test_histo1)"
      ],
      "execution_count": 0,
      "outputs": []
    }
  ]
}