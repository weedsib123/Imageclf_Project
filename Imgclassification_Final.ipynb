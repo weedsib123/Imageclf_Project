{
  "nbformat": 4,
  "nbformat_minor": 0,
  "metadata": {
    "colab": {
      "name": "Imgclassification_Final.ipynb",
      "provenance": [],
      "collapsed_sections": [],
      "machine_shape": "hm"
    },
    "kernelspec": {
      "name": "python3",
      "display_name": "Python 3"
    },
    "accelerator": "GPU"
  },
  "cells": [
    {
      "cell_type": "markdown",
      "metadata": {
        "id": "cg7PkVi28P_E",
        "colab_type": "text"
      },
      "source": [
        "Data 불러오기\n"
      ]
    },
    {
      "cell_type": "markdown",
      "metadata": {
        "id": "XBXY54TK6ftm",
        "colab_type": "text"
      },
      "source": [
        ""
      ]
    },
    {
      "cell_type": "markdown",
      "metadata": {
        "id": "vEOqavpM1v7L",
        "colab_type": "text"
      },
      "source": [
        ""
      ]
    },
    {
      "cell_type": "code",
      "metadata": {
        "id": "_6AH6tGKDMgc",
        "colab_type": "code",
        "outputId": "e1453384-d8d0-4369-f4e2-360c68376363",
        "colab": {
          "base_uri": "https://localhost:8080/",
          "height": 369
        }
      },
      "source": [
        "! yes | pip3 uninstall opencv-python\n",
        "! yes | pip3 uninstall opencv-contrib-python\n",
        "! yes | pip3 install opencv-python==3.4.2.16\n",
        "! yes | pip3 install opencv-contrib-python==3.4.2.16\n"
      ],
      "execution_count": 1,
      "outputs": [
        {
          "output_type": "stream",
          "text": [
            "Uninstalling opencv-python-3.4.2.16:\n",
            "  Would remove:\n",
            "    /usr/local/lib/python3.6/dist-packages/cv2/*\n",
            "    /usr/local/lib/python3.6/dist-packages/opencv_python-3.4.2.16.dist-info/*\n",
            "Proceed (y/n)?   Successfully uninstalled opencv-python-3.4.2.16\n",
            "Uninstalling opencv-contrib-python-3.4.2.16:\n",
            "  Would remove:\n",
            "    /usr/local/lib/python3.6/dist-packages/opencv_contrib_python-3.4.2.16.dist-info/*\n",
            "Proceed (y/n)?   Successfully uninstalled opencv-contrib-python-3.4.2.16\n",
            "Collecting opencv-python==3.4.2.16\n",
            "  Using cached https://files.pythonhosted.org/packages/fa/7d/5042b668a8ed41d2a80b8c172f5efcd572e3c046c75ae029407e19b7fc68/opencv_python-3.4.2.16-cp36-cp36m-manylinux1_x86_64.whl\n",
            "Requirement already satisfied: numpy>=1.11.3 in /usr/local/lib/python3.6/dist-packages (from opencv-python==3.4.2.16) (1.17.4)\n",
            "\u001b[31mERROR: albumentations 0.1.12 has requirement imgaug<0.2.7,>=0.2.5, but you'll have imgaug 0.2.9 which is incompatible.\u001b[0m\n",
            "Installing collected packages: opencv-python\n",
            "Successfully installed opencv-python-3.4.2.16\n",
            "Collecting opencv-contrib-python==3.4.2.16\n",
            "  Using cached https://files.pythonhosted.org/packages/08/f1/66330f4042c4fb3b2d77a159db8e8916d9cdecc29bc8c1f56bc7f8a9bec9/opencv_contrib_python-3.4.2.16-cp36-cp36m-manylinux1_x86_64.whl\n",
            "Requirement already satisfied: numpy>=1.11.3 in /usr/local/lib/python3.6/dist-packages (from opencv-contrib-python==3.4.2.16) (1.17.4)\n",
            "Installing collected packages: opencv-contrib-python\n",
            "Successfully installed opencv-contrib-python-3.4.2.16\n"
          ],
          "name": "stdout"
        }
      ]
    },
    {
      "cell_type": "code",
      "metadata": {
        "id": "TioAbg7RDvmL",
        "colab_type": "code",
        "outputId": "0dbaadde-0adc-46e6-95ac-c40c6e88deea",
        "colab": {
          "base_uri": "https://localhost:8080/",
          "height": 34
        }
      },
      "source": [
        "#구글마운트 연결\n",
        "from google.colab import drive\n",
        "drive.mount('/content/drive')"
      ],
      "execution_count": 2,
      "outputs": [
        {
          "output_type": "stream",
          "text": [
            "Drive already mounted at /content/drive; to attempt to forcibly remount, call drive.mount(\"/content/drive\", force_remount=True).\n"
          ],
          "name": "stdout"
        }
      ]
    },
    {
      "cell_type": "markdown",
      "metadata": {
        "id": "ZWdGuApb8NpW",
        "colab_type": "text"
      },
      "source": [
        ""
      ]
    },
    {
      "cell_type": "code",
      "metadata": {
        "id": "muCIqXaK4nbU",
        "colab_type": "code",
        "outputId": "cf095766-4a72-48e4-a7d4-4aaa4a158abd",
        "colab": {
          "base_uri": "https://localhost:8080/",
          "height": 457
        }
      },
      "source": [
        "#kmc2 설치하기\n",
        "!pip install kmc2\n",
        "!pip install imgaug\n",
        "#!pip3 install git+https://github.com/src-d/kmcuda.git#subdirectory=src\n",
        "#CUDA_ARCH=61 pip install libKMCUDA"
      ],
      "execution_count": 4,
      "outputs": [
        {
          "output_type": "stream",
          "text": [
            "Requirement already satisfied: kmc2 in /usr/local/lib/python3.6/dist-packages (0.1)\n",
            "Requirement already satisfied: numpy in /usr/local/lib/python3.6/dist-packages (from kmc2) (1.17.4)\n",
            "Requirement already satisfied: nose in /usr/local/lib/python3.6/dist-packages (from kmc2) (1.3.7)\n",
            "Requirement already satisfied: scipy in /usr/local/lib/python3.6/dist-packages (from kmc2) (1.3.3)\n",
            "Requirement already satisfied: scikit-learn in /usr/local/lib/python3.6/dist-packages (from kmc2) (0.21.3)\n",
            "Requirement already satisfied: joblib>=0.11 in /usr/local/lib/python3.6/dist-packages (from scikit-learn->kmc2) (0.14.1)\n",
            "Requirement already satisfied: imgaug in /usr/local/lib/python3.6/dist-packages (0.2.9)\n",
            "Requirement already satisfied: opencv-python in /usr/local/lib/python3.6/dist-packages (from imgaug) (3.4.2.16)\n",
            "Requirement already satisfied: scipy in /usr/local/lib/python3.6/dist-packages (from imgaug) (1.3.3)\n",
            "Requirement already satisfied: six in /usr/local/lib/python3.6/dist-packages (from imgaug) (1.12.0)\n",
            "Requirement already satisfied: numpy>=1.15.0 in /usr/local/lib/python3.6/dist-packages (from imgaug) (1.17.4)\n",
            "Requirement already satisfied: scikit-image>=0.11.0 in /usr/local/lib/python3.6/dist-packages (from imgaug) (0.15.0)\n",
            "Requirement already satisfied: matplotlib in /usr/local/lib/python3.6/dist-packages (from imgaug) (3.1.2)\n",
            "Requirement already satisfied: Pillow in /usr/local/lib/python3.6/dist-packages (from imgaug) (4.3.0)\n",
            "Requirement already satisfied: Shapely in /usr/local/lib/python3.6/dist-packages (from imgaug) (1.6.4.post2)\n",
            "Requirement already satisfied: imageio in /usr/local/lib/python3.6/dist-packages (from imgaug) (2.4.1)\n",
            "Requirement already satisfied: PyWavelets>=0.4.0 in /usr/local/lib/python3.6/dist-packages (from scikit-image>=0.11.0->imgaug) (1.1.1)\n",
            "Requirement already satisfied: networkx>=2.0 in /usr/local/lib/python3.6/dist-packages (from scikit-image>=0.11.0->imgaug) (2.4)\n",
            "Requirement already satisfied: cycler>=0.10 in /usr/local/lib/python3.6/dist-packages (from matplotlib->imgaug) (0.10.0)\n",
            "Requirement already satisfied: pyparsing!=2.0.4,!=2.1.2,!=2.1.6,>=2.0.1 in /usr/local/lib/python3.6/dist-packages (from matplotlib->imgaug) (2.4.5)\n",
            "Requirement already satisfied: kiwisolver>=1.0.1 in /usr/local/lib/python3.6/dist-packages (from matplotlib->imgaug) (1.1.0)\n",
            "Requirement already satisfied: python-dateutil>=2.1 in /usr/local/lib/python3.6/dist-packages (from matplotlib->imgaug) (2.6.1)\n",
            "Requirement already satisfied: olefile in /usr/local/lib/python3.6/dist-packages (from Pillow->imgaug) (0.46)\n",
            "Requirement already satisfied: decorator>=4.3.0 in /usr/local/lib/python3.6/dist-packages (from networkx>=2.0->scikit-image>=0.11.0->imgaug) (4.4.1)\n",
            "Requirement already satisfied: setuptools in /usr/local/lib/python3.6/dist-packages (from kiwisolver>=1.0.1->matplotlib->imgaug) (42.0.2)\n"
          ],
          "name": "stdout"
        }
      ]
    },
    {
      "cell_type": "code",
      "metadata": {
        "id": "JeSaMMbUCisF",
        "colab_type": "code",
        "outputId": "12209efa-f0d8-4548-ffc3-5602673b6bc9",
        "colab": {
          "base_uri": "https://localhost:8080/",
          "height": 81
        }
      },
      "source": [
        "from sklearn.model_selection import train_test_split\n",
        "from imutils import paths\n",
        "import numpy as np\n",
        "import imutils \n",
        "import cv2 \n",
        "import os\n",
        "import pandas as pd\n",
        "from tqdm import tqdm\n",
        "import matplotlib.pyplot as plt\n",
        "import copy\n",
        "import pickle\n",
        "from sklearn.cluster import KMeans\n",
        "import imgaug.augmenters as iaa\n",
        "from sklearn.svm import LinearSVC\n",
        "from sklearn import preprocessing\n",
        "from sklearn.metrics import accuracy_score\n",
        "from PIL import Image #image 바꾸기\n",
        "from sklearn.decomposition import PCA # PCA\n",
        "from keras.preprocessing.image import ImageDataGenerator \n",
        "from PIL import Image\n",
        "from sklearn.neighbors import BallTree\n",
        "from sklearn.model_selection import GridSearchCV\n",
        "from sklearn.svm import SVC\n",
        "from sklearn.decomposition import PCA"
      ],
      "execution_count": 3,
      "outputs": [
        {
          "output_type": "stream",
          "text": [
            "Using TensorFlow backend.\n"
          ],
          "name": "stderr"
        },
        {
          "output_type": "display_data",
          "data": {
            "text/html": [
              "<p style=\"color: red;\">\n",
              "The default version of TensorFlow in Colab will soon switch to TensorFlow 2.x.<br>\n",
              "We recommend you <a href=\"https://www.tensorflow.org/guide/migrate\" target=\"_blank\">upgrade</a> now \n",
              "or ensure your notebook will continue to use TensorFlow 1.x via the <code>%tensorflow_version 1.x</code> magic:\n",
              "<a href=\"https://colab.research.google.com/notebooks/tensorflow_version.ipynb\" target=\"_blank\">more info</a>.</p>\n"
            ],
            "text/plain": [
              "<IPython.core.display.HTML object>"
            ]
          },
          "metadata": {
            "tags": []
          }
        }
      ]
    },
    {
      "cell_type": "markdown",
      "metadata": {
        "id": "TuYP6Nxg1rXu",
        "colab_type": "text"
      },
      "source": [
        ""
      ]
    },
    {
      "cell_type": "code",
      "metadata": {
        "id": "smde_c57Cl28",
        "colab_type": "code",
        "outputId": "44971356-8b90-4355-d80e-8f18507149ef",
        "colab": {
          "base_uri": "https://localhost:8080/",
          "height": 263
        }
      },
      "source": [
        "df_data=pd.read_csv('/content/drive/My Drive/2019-ml-finalproject/Label2Names.csv',header=None)\n",
        "print(df_data)\n"
      ],
      "execution_count": 5,
      "outputs": [
        {
          "output_type": "stream",
          "text": [
            "       0              1\n",
            "0      1          Faces\n",
            "1      2     Faces_easy\n",
            "2      3       Leopards\n",
            "3      4     Motorbikes\n",
            "4      5      accordion\n",
            "..   ...            ...\n",
            "96    97     wheelchair\n",
            "97    98       wild_cat\n",
            "98    99  windsor_chair\n",
            "99   100         wrench\n",
            "100  101       yin_yang\n",
            "\n",
            "[101 rows x 2 columns]\n"
          ],
          "name": "stdout"
        }
      ]
    },
    {
      "cell_type": "code",
      "metadata": {
        "id": "rJzw8HEPDJ3l",
        "colab_type": "code",
        "outputId": "0e09b53a-9709-417c-ede3-2850f8024eb7",
        "colab": {
          "base_uri": "https://localhost:8080/",
          "height": 34
        }
      },
      "source": [
        "DATA_ROOT_TRAIN=\"/content/drive/My Drive/2019-ml-finalproject/train\"\n",
        "train_des=list()\n",
        "train_labels=list()\n",
        "\n",
        "num_feature_dimensions=100 \n",
        "pca = PCA(n_components = num_feature_dimensions)\n",
        "\n",
        "\n",
        "\n",
        "for cls in tqdm(os.listdir(DATA_ROOT_TRAIN)): #진행도를 알려줌\n",
        "  img_list = os.listdir(DATA_ROOT_TRAIN+'/'+cls)\n",
        "  #print(DATA_ROOT_TRAIN+'/'+cls)\n",
        "  #print(img_list)\n",
        "  \n",
        "  if cls == 'BACKGROUND_Google' :\n",
        "    label= 102\n",
        "  else :\n",
        "    label=(df_data.index[df_data[1]==cls]+1).tolist()[0]\n",
        "\n",
        "\n",
        "  '''\n",
        "  이미지 잘들어있는지 확인\n",
        "  if len(img_list) != 30:\n",
        "   print(cls)\n",
        "   print(len(img_list))\n",
        "   '''\n",
        "  \n",
        "  if cls == 'BACKGROUND_Google' :\n",
        "    continue\n",
        "  for img in img_list:\n",
        "    image=cv2.imread(DATA_ROOT_TRAIN+'/'+cls+'/'+img)\n",
        "    gray=cv2.cvtColor(image,cv2.COLOR_BGR2GRAY)\n",
        "    dst = gray.copy() \n",
        "    roi = gray[16:np.shape(gray)[0]-16, 16:np.shape(gray)[1]-16]\n",
        "    #gray=cv2.resize(gray, dsize=(256, 256))\n",
        "    train_des.append(roi)\n",
        "    train_labels.append(label)\n",
        "  \n",
        "\n",
        "\n",
        "    '''\n",
        "    image=Image.open(DATA_ROOT_TRAIN+'/'+cls+'/'+img)\n",
        "    gray=image.convert(\"L\") \n",
        "    for ang in range(0, 15, 20):\n",
        "      img2 = gray.rotate(ang)\n",
        "      data = np.asarray(img2)\n",
        "      train_des.append(data)\n",
        "      train_labels.append(label)\n",
        "      # 반전하기\n",
        "    if cls != 'stop_sign':\n",
        "      img2 = gray.transpose(Image.FLIP_LEFT_RIGHT)\n",
        "      data = np.asarray(img2)\n",
        "      train_des.append(data)\n",
        "      train_labels.append(label)\n",
        "\n",
        "    '''\n",
        "\n",
        "\n"
      ],
      "execution_count": 41,
      "outputs": [
        {
          "output_type": "stream",
          "text": [
            "100%|██████████| 102/102 [00:11<00:00,  9.02it/s]\n"
          ],
          "name": "stderr"
        }
      ]
    },
    {
      "cell_type": "code",
      "metadata": {
        "id": "KS11t2LBcZtD",
        "colab_type": "code",
        "outputId": "2110c0ee-ea73-4735-9800-e8aba1a8d96d",
        "colab": {
          "base_uri": "https://localhost:8080/",
          "height": 322
        }
      },
      "source": [
        "from sklearn.decomposition import PCA\n",
        "pca=PCA(1500)\n",
        "\n",
        "for i in range(len(train_des)):\n",
        "  train_des[i]=np.ravel(train_des[i])\n",
        "    \n",
        "print(np.shape(train_des[4]))\n",
        "\n",
        "\n",
        "gray=pca.fit_transform(train_des)\n",
        "gray=pca.inverse_transform(gray)\n",
        "print(np.shape(gray))\n",
        "plt.imshow(gray[5].reshape(256,256),cmap='gray')"
      ],
      "execution_count": 0,
      "outputs": [
        {
          "output_type": "stream",
          "text": [
            "(65536,)\n",
            "(3030, 65536)\n"
          ],
          "name": "stdout"
        },
        {
          "output_type": "execute_result",
          "data": {
            "text/plain": [
              "<matplotlib.image.AxesImage at 0x7f8010482cc0>"
            ]
          },
          "metadata": {
            "tags": []
          },
          "execution_count": 57
        },
        {
          "output_type": "display_data",
          "data": {
            "image/png": "[encoded data removed]",
            "text/plain": [
              "<Figure size 432x288 with 1 Axes>"
            ]
          },
          "metadata": {
            "tags": []
          }
        }
      ]
    },
    {
      "cell_type": "code",
      "metadata": {
        "id": "7YkZiT-Crx_4",
        "colab_type": "code",
        "colab": {}
      },
      "source": [
        "print(np.shape(gray))\n",
        "train_des1=[]\n",
        "print(gray[0].reshape(256,256))\n",
        "for i in range(len(gray)):\n",
        "  train_des1.append(gray[i].reshape(256,256))\n",
        "print(np.shape(train_des1))"
      ],
      "execution_count": 0,
      "outputs": []
    },
    {
      "cell_type": "code",
      "metadata": {
        "id": "iJsxdDs1arFt",
        "colab_type": "code",
        "colab": {}
      },
      "source": [
        "#피클사용 저장\n",
        "with open('/content/drive/My Drive/2019-ml-finalproject/train_labels2.pickle','wb') as f:\n",
        "  pickle.dump(train_labels,f,pickle.HIGHEST_PROTOCOL)\n",
        "with open('/content/drive/My Drive/2019-ml-finalproject/train_des2.pickle','wb') as f:\n",
        "  pickle.dump(train_des,f,pickle.HIGHEST_PROTOCOL)\n",
        "#print(np.shape(train_labels))\n"
      ],
      "execution_count": 0,
      "outputs": []
    },
    {
      "cell_type": "code",
      "metadata": {
        "id": "1w_I6yzLbRrF",
        "colab_type": "code",
        "colab": {}
      },
      "source": [
        "#피클사용 로드\n",
        "with open('/content/drive/My Drive/2019-ml-finalproject/train_labels2.pickle', 'rb') as f:\n",
        "    train_labels = pickle.load(f)\n",
        "with open('/content/drive/My Drive/2019-ml-finalproject/train_des2.pickle', 'rb') as f:\n",
        "    train_des = pickle.load(f)"
      ],
      "execution_count": 0,
      "outputs": []
    },
    {
      "cell_type": "code",
      "metadata": {
        "id": "K1EMg7Ig2IvF",
        "colab_type": "code",
        "colab": {}
      },
      "source": [
        "#피클사용 저장 256*256 저장하기\n",
        "with open('/content/drive/My Drive/2019-ml-finalproject/train_labels.pickle','wb') as f:\n",
        "  pickle.dump(train_labels,f,pickle.HIGHEST_PROTOCOL)\n",
        "with open('/content/drive/My Drive/2019-ml-finalproject/train_des.pickle','wb') as f:\n",
        "  pickle.dump(train_des,f,pickle.HIGHEST_PROTOCOL)\n",
        "#print(np.shape(train_labels))\n"
      ],
      "execution_count": 0,
      "outputs": []
    },
    {
      "cell_type": "code",
      "metadata": {
        "id": "DXQLHLNH2usi",
        "colab_type": "code",
        "colab": {}
      },
      "source": [
        "#피클사용 로드(256*256)\n",
        "with open('/content/drive/My Drive/2019-ml-finalproject/train_labels.pickle', 'rb') as f:\n",
        "    train_labels = pickle.load(f)\n",
        "with open('/content/drive/My Drive/2019-ml-finalproject/train_des.pickle', 'rb') as f:\n",
        "    train_des = pickle.load(f)"
      ],
      "execution_count": 0,
      "outputs": []
    },
    {
      "cell_type": "code",
      "metadata": {
        "id": "0L7x-veNFkYd",
        "colab_type": "code",
        "outputId": "513b9b07-cbde-4252-9dd3-cc0242289080",
        "colab": {
          "base_uri": "https://localhost:8080/",
          "height": 34
        }
      },
      "source": [
        "print(np.shape(train_des))"
      ],
      "execution_count": 10,
      "outputs": [
        {
          "output_type": "stream",
          "text": [
            "(3030, 256, 256)\n"
          ],
          "name": "stdout"
        }
      ]
    },
    {
      "cell_type": "code",
      "metadata": {
        "id": "II2YqTcG-7EP",
        "colab_type": "code",
        "outputId": "656fc830-dc03-450f-c1b9-5fb8672f5062",
        "colab": {
          "base_uri": "https://localhost:8080/",
          "height": 55
        }
      },
      "source": [
        "\n",
        "#데이터분리\n",
        "train_data,test_data,train_label,test_label=train_test_split(train_des1, train_labels1, test_size=0.25, random_state=42)"
      ],
      "execution_count": 0,
      "outputs": [
        {
          "output_type": "execute_result",
          "data": {
            "text/plain": [
              "\"\\nsift = cv2.xfeatures2d.SIFT_create()\\nkp = sift.detect(gray,None)\\ncv2.drawKeypoints(gray,kp,img,flags=cv2.DRAW_MATCHES_FLAGS_DRAW_RICH_KEYPOINTS)\\n#cv2.imshow('Hi',img)\\n#cv2.imwrite('image_0001.jpg',img)\\nplt.imshow(train_des[14],cmap='gray') # 회식으로 보여주는 거로 만들어줘야됨\\n\""
            ]
          },
          "metadata": {
            "tags": []
          },
          "execution_count": 9
        }
      ]
    },
    {
      "cell_type": "code",
      "metadata": {
        "colab_type": "code",
        "id": "hj_1g4jlDQKh",
        "colab": {}
      },
      "source": [
        "\n",
        "#SIFT 계산\n",
        "def computeSIFT(data):\n",
        "    x = []\n",
        "    for i in tqdm(range(len(data))):\n",
        "        sift = cv2.xfeatures2d.SIFT_create()\n",
        "        img = data[i]\n",
        "        \n",
        "        #print(type(img))\n",
        "        step_size = 8\n",
        "        kp = [cv2.KeyPoint(x, y, step_size) for x in range(0, img.shape[0], step_size) for y in range(0, img.shape[1], step_size)]\n",
        "        #kp = [cv2.KeyPoint(x, y, step_size) for x in range(16, img.shape[0]-16, step_size) for y in range(16, img.shape[1]-16, step_size)]\n",
        "        #keypoints, descriptors = sift.detectAndCompute(img, kp)\n",
        "        dense_feat = sift.compute(img, kp) \n",
        "        x.append(dense_feat[1]) #description 값 계산\n",
        "        #weak feature\n",
        "        #keypoints, descriptors = sift.detectAndCompute(img, None)\n",
        "        #x.append(descriptors)\n",
        "    return x\n",
        "\n",
        "#x_train = computeSIFT(train_data)\n",
        "#x_test = computeSIFT(test_data)\n"
      ],
      "execution_count": 0,
      "outputs": []
    },
    {
      "cell_type": "code",
      "metadata": {
        "id": "mYL9UGkSWxEr",
        "colab_type": "code",
        "colab": {}
      },
      "source": [
        "#sift한 파일 저장\n",
        "#with open('/content/drive/My Drive/2019-ml-finalproject/x_train.pickle','wb') as f:\n",
        "#  pickle.dump(x_train,f,pickle.HIGHEST_PROTOCOL)\n",
        "#with open('/content/drive/My Drive/2019-ml-finalproject/x_test.pickle','wb') as f:\n",
        "#  pickle.dump(x_test,f,pickle.HIGHEST_PROTOCOL)"
      ],
      "execution_count": 0,
      "outputs": []
    },
    {
      "cell_type": "code",
      "metadata": {
        "id": "-9P3_DAuXBFz",
        "colab_type": "code",
        "outputId": "2cd5817d-8d3f-493e-b5aa-2907c9b71bd4",
        "colab": {
          "base_uri": "https://localhost:8080/",
          "height": 34
        }
      },
      "source": [
        "#피클사용 로드\n",
        "with open('/content/drive/My Drive/2019-ml-finalproject/x_train.pickle', 'rb') as f:\n",
        "    x_train = pickle.load(f)\n",
        "with open('/content/drive/My Drive/2019-ml-finalproject/x_test.pickle', 'rb') as f:\n",
        "    x_test = pickle.load(f)\n",
        "print(np.shape(x_test[3])) #128차원 저장?\n",
        "\n",
        "\n"
      ],
      "execution_count": 0,
      "outputs": [
        {
          "output_type": "stream",
          "text": [
            "(950, 128)\n"
          ],
          "name": "stdout"
        }
      ]
    },
    {
      "cell_type": "code",
      "metadata": {
        "id": "mbMaL_uGIQ3-",
        "colab_type": "code",
        "colab": {}
      },
      "source": [
        "all_train_desc = []\n",
        "for i in range(len(x_train)):\n",
        "    for j in range(x_train[i].shape[0]):\n",
        "        all_train_desc.append(x_train[i][j,:])\n",
        "\n",
        "all_train_desc = np.array(all_train_desc)\n",
        "print(all_train_desc.shape)#1856*271, 300\n",
        "print(np.shape(x_train))"
      ],
      "execution_count": 0,
      "outputs": []
    },
    {
      "cell_type": "markdown",
      "metadata": {
        "id": "fKvxOrVpJ2ws",
        "colab_type": "text"
      },
      "source": [
        "Check gpu operation"
      ]
    },
    {
      "cell_type": "code",
      "metadata": {
        "id": "hg25oWOy-TAt",
        "colab_type": "code",
        "outputId": "e9b488a8-f44d-4bd9-dae6-97ec5adedaeb",
        "colab": {
          "base_uri": "https://localhost:8080/",
          "height": 82
        }
      },
      "source": [
        "import tensorflow as tf\n",
        "tf.test.gpu_device_name()"
      ],
      "execution_count": 0,
      "outputs": [
        {
          "output_type": "display_data",
          "data": {
            "text/html": [
              "<p style=\"color: red;\">\n",
              "The default version of TensorFlow in Colab will soon switch to TensorFlow 2.x.<br>\n",
              "We recommend you <a href=\"https://www.tensorflow.org/guide/migrate\" target=\"_blank\">upgrade</a> now \n",
              "or ensure your notebook will continue to use TensorFlow 1.x via the <code>%tensorflow_version 1.x</code> magic:\n",
              "<a href=\"https://colab.research.google.com/notebooks/tensorflow_version.ipynb\" target=\"_blank\">more info</a>.</p>\n"
            ],
            "text/plain": [
              "<IPython.core.display.HTML object>"
            ]
          },
          "metadata": {
            "tags": []
          }
        },
        {
          "output_type": "execute_result",
          "data": {
            "text/plain": [
              "'/device:GPU:0'"
            ]
          },
          "metadata": {
            "tags": []
          },
          "execution_count": 8
        }
      ]
    },
    {
      "cell_type": "markdown",
      "metadata": {
        "id": "o_UaUuEeFLtx",
        "colab_type": "text"
      },
      "source": [
        "SPM"
      ]
    },
    {
      "cell_type": "code",
      "metadata": {
        "id": "XBH5Vas2LGF1",
        "colab_type": "code",
        "colab": {}
      },
      "source": [
        "#build BoW presentation from SIFT images\n",
        "import kmc2\n",
        "from sklearn.cluster import MiniBatchKMeans\n",
        "def clusterFeatures(all_train_desc, k):\n",
        "    seeding = kmc2.kmc2(all_train_desc, k)\n",
        "    model = MiniBatchKMeans(k, init=seeding).fit(all_train_desc)\n",
        "    codebook = model.cluster_centers_\n",
        "    return codebook,model\n",
        "k = 512\n",
        "#print(type(all_train_desc))\n",
        "#kmeans = clusterFeatures(all_train_desc, k)\n",
        "#KMeans(n_clusters=200, random_state=0).fit(all_train_desc)"
      ],
      "execution_count": 0,
      "outputs": []
    },
    {
      "cell_type": "markdown",
      "metadata": {
        "id": "q1Oq0LII_cZL",
        "colab_type": "text"
      },
      "source": [
        "전체데이터 학습"
      ]
    },
    {
      "cell_type": "code",
      "metadata": {
        "id": "zbbtvvVs_WGT",
        "colab_type": "code",
        "outputId": "7903667a-b76c-4a38-e6f2-a485697fc9d5",
        "colab": {
          "base_uri": "https://localhost:8080/",
          "height": 70
        }
      },
      "source": [
        "\n",
        "final_train1=computeSIFT(train_des)  #1로 수정하기\n",
        "print(np.shape(final_train1))\n",
        "final_all_train_desc1 = []\n",
        "for i in range(len(final_train1)):\n",
        "    for j in range(final_train1[i].shape[0]):\n",
        "        final_all_train_desc1.append(final_train1[i][j,:])\n",
        "\n",
        "final_label1=train_labels #1로수정하기\n",
        "final_all_train_desc1 = np.array(final_all_train_desc1)\n",
        "print(final_all_train_desc1.shape)\n"
      ],
      "execution_count": 44,
      "outputs": [
        {
          "output_type": "stream",
          "text": [
            "100%|██████████| 3030/3030 [02:00<00:00, 25.14it/s]\n"
          ],
          "name": "stderr"
        },
        {
          "output_type": "stream",
          "text": [
            "(3030,)\n",
            "(2620223, 128)\n"
          ],
          "name": "stdout"
        }
      ]
    },
    {
      "cell_type": "code",
      "metadata": {
        "id": "5u3KOOvXCtnR",
        "colab_type": "code",
        "colab": {
          "base_uri": "https://localhost:8080/",
          "height": 52
        },
        "outputId": "b8df7cdf-313a-4f2b-8c1b-d5cd061527ef"
      },
      "source": [
        "final_train1=computeSIFT(train_des)\n",
        "print(np.shape(final_train1))"
      ],
      "execution_count": 13,
      "outputs": [
        {
          "output_type": "stream",
          "text": [
            "100%|██████████| 3030/3030 [02:47<00:00, 18.17it/s]\n"
          ],
          "name": "stderr"
        },
        {
          "output_type": "stream",
          "text": [
            "(3030, 1024, 128)\n"
          ],
          "name": "stdout"
        }
      ]
    },
    {
      "cell_type": "code",
      "metadata": {
        "id": "7NpUfx80RyBy",
        "colab_type": "code",
        "colab": {
          "base_uri": "https://localhost:8080/",
          "height": 34
        },
        "outputId": "59f8f33a-4843-422e-e21c-7f4595138422"
      },
      "source": [
        "final_all_train_desc1 = []\n",
        "for i in range(len(final_train1)):\n",
        "    for j in range(final_train1[i].shape[0]):\n",
        "        final_all_train_desc1.append(final_train1[i][j,:])\n",
        "\n",
        "final_label1=train_labels #1로수정하기\n",
        "final_all_train_desc1 = np.array(final_all_train_desc1)\n",
        "print(final_all_train_desc1.shape)"
      ],
      "execution_count": 14,
      "outputs": [
        {
          "output_type": "stream",
          "text": [
            "(3102720, 128)\n"
          ],
          "name": "stdout"
        }
      ]
    },
    {
      "cell_type": "code",
      "metadata": {
        "id": "ceWmYzvcSSST",
        "colab_type": "code",
        "colab": {
          "base_uri": "https://localhost:8080/",
          "height": 34
        },
        "outputId": "8056329e-d8eb-4ceb-cb04-6548506db2da"
      },
      "source": [
        "final_train1=final_all_train_desc1.reshape(3030,1024,100)\n",
        "print(final_train1.shape)"
      ],
      "execution_count": 17,
      "outputs": [
        {
          "output_type": "stream",
          "text": [
            "(3030, 1024, 100)\n"
          ],
          "name": "stdout"
        }
      ]
    },
    {
      "cell_type": "code",
      "metadata": {
        "id": "ze4_sIhw7V1f",
        "colab_type": "code",
        "outputId": "1a9686c3-b632-4822-c23d-bf1d9330b454",
        "colab": {
          "base_uri": "https://localhost:8080/",
          "height": 105
        }
      },
      "source": [
        "codebook,kmeans1 = clusterFeatures(final_all_train_desc1, k)\n",
        "print(codebook.shape)"
      ],
      "execution_count": 45,
      "outputs": [
        {
          "output_type": "stream",
          "text": [
            "/usr/local/lib/python3.6/dist-packages/ipykernel_launcher.py:5: RuntimeWarning: Explicit initial center position passed: performing only one init in MiniBatchKMeans instead of n_init=3\n",
            "  \"\"\"\n",
            "/usr/local/lib/python3.6/dist-packages/sklearn/cluster/k_means_.py:1561: RuntimeWarning: init_size=300 should be larger than k=512. Setting it to 3*k\n",
            "  init_size=init_size)\n"
          ],
          "name": "stderr"
        },
        {
          "output_type": "stream",
          "text": [
            "(512, 128)\n"
          ],
          "name": "stdout"
        }
      ]
    },
    {
      "cell_type": "code",
      "metadata": {
        "id": "u6QZx8O84fNz",
        "colab_type": "code",
        "colab": {}
      },
      "source": [
        "#데이터 저장 pca100적용한 것\n",
        "with open('/content/drive/My Drive/2019-ml-finalproject/final_train1.pickle','wb') as f:\n",
        "  pickle.dump(final_train1,f,pickle.HIGHEST_PROTOCOL)\n",
        "#Load\n",
        "with open('/content/drive/My Drive/2019-ml-finalproject/final_train1.pickle', 'rb') as f:\n",
        "    final_train1 = pickle.load(f)"
      ],
      "execution_count": 0,
      "outputs": []
    },
    {
      "cell_type": "code",
      "metadata": {
        "id": "XhoWcZgiEvVF",
        "colab_type": "code",
        "colab": {}
      },
      "source": [
        "#코드북저장\n",
        "#with open('/content/drive/My Drive/2019-ml-finalproject/codebook2.pickle','wb') as f:\n",
        "#  pickle.dump(codebook,f,pickle.HIGHEST_PROTOCOL)\n",
        "  #Load\n",
        "with open('/content/drive/My Drive/2019-ml-finalproject/codebook2.pickle', 'rb') as f:\n",
        "    codebook = pickle.load(f)"
      ],
      "execution_count": 0,
      "outputs": []
    },
    {
      "cell_type": "code",
      "metadata": {
        "id": "Rjt8ZYTRgGlQ",
        "colab_type": "code",
        "colab": {}
      },
      "source": [
        "#데이터 저장 -> 16,16 뺀 사진들 저장\n",
        "#with open('/content/drive/My Drive/2019-ml-finalproject/final_train2.pickle','wb') as f:\n",
        "#  pickle.dump(final_train1,f,pickle.HIGHEST_PROTOCOL)\n",
        "#Load\n",
        "with open('/content/drive/My Drive/2019-ml-finalproject/final_train2.pickle', 'rb') as f:\n",
        "    final_train1 = pickle.load(f)"
      ],
      "execution_count": 0,
      "outputs": []
    },
    {
      "cell_type": "markdown",
      "metadata": {
        "id": "pCOtsikNP0bK",
        "colab_type": "text"
      },
      "source": [
        "PCA 테스트"
      ]
    },
    {
      "cell_type": "code",
      "metadata": {
        "id": "h4-kTmodZRnJ",
        "colab_type": "code",
        "colab": {}
      },
      "source": [
        "#kmeans 저장\n",
        "#with open('/content/drive/My Drive/2019-ml-finalproject/kmeans1.pickle','wb') as f:\n",
        "#  pickle.dump(kmeans1,f,pickle.HIGHEST_PROTOCOL)\n",
        "#Load\n",
        "with open('/content/drive/My Drive/2019-ml-finalproject/kmeans1.pickle', 'rb') as f:\n",
        "    kmeans1 = pickle.load(f)"
      ],
      "execution_count": 0,
      "outputs": []
    },
    {
      "cell_type": "code",
      "metadata": {
        "id": "D2J1NQVHgM-R",
        "colab_type": "code",
        "colab": {}
      },
      "source": [
        "#kmeans2 저장 1256 256 100차원으로 줄이고 적용\n",
        "#with open('/content/drive/My Drive/2019-ml-finalproject/kmeans2.pickle','wb') as f:\n",
        "#  pickle.dump(kmeans1,f,pickle.HIGHEST_PROTOCOL)\n",
        "#Load\n",
        "with open('/content/drive/My Drive/2019-ml-finalproject/kmeans2.pickle', 'rb') as f:\n",
        "    kmeans1 = pickle.load(f)"
      ],
      "execution_count": 0,
      "outputs": []
    },
    {
      "cell_type": "code",
      "metadata": {
        "id": "drxzj5e3D3nm",
        "colab_type": "code",
        "colab": {
          "base_uri": "https://localhost:8080/",
          "height": 34
        },
        "outputId": "88d4a7a2-41aa-43ef-9f2d-f6fdbb401285"
      },
      "source": [
        "print(kmeans1.cluster_centers_.shape)"
      ],
      "execution_count": 32,
      "outputs": [
        {
          "output_type": "stream",
          "text": [
            "(256, 128)\n"
          ],
          "name": "stdout"
        }
      ]
    },
    {
      "cell_type": "code",
      "metadata": {
        "id": "4DztgF7KELAK",
        "colab_type": "code",
        "colab": {}
      },
      "source": [
        "#VLAD\n",
        "def VLAD(final_des,kmeans):\n",
        "    predictedLabels = kmeans.predict(final_des)\n",
        "\n",
        "    centers = kmeans.cluster_centers_\n",
        "    labels=kmeans.labels_\n",
        "    k=kmeans.n_clusters\n",
        "   \n",
        "\n",
        "    m,d = np.shape(final_des)\n",
        "    V=np.zeros([k,d])\n",
        "    #computing the differences\n",
        "\n",
        "    # for all the clusters (visual words)\n",
        "    for i in range(k):\n",
        "        # if there is at least one descriptor in that cluster\n",
        "        if np.sum(predictedLabels==i)>0:\n",
        "            # add the diferences\n",
        "            V[i]=np.sum(final_des[predictedLabels==i,:]-centers[i],axis=0)\n",
        "    \n",
        "\n",
        "    V = V.flatten()\n",
        "    # power normalization, also called square-rooting normalization\n",
        "    V = np.sign(V)*np.sqrt(np.abs(V))\n",
        "\n",
        "    # L2 normalization\n",
        "\n",
        "    V = V/np.sqrt(np.dot(V,V))\n",
        "    return V\n",
        "vlad=[]\n",
        "total=len(final_train1)\n",
        "for i in range(total):\n",
        "  vlad.append(VLAD(final_train1[i],kmeans1))\n",
        "\n",
        "\n"
      ],
      "execution_count": 0,
      "outputs": []
    },
    {
      "cell_type": "code",
      "metadata": {
        "id": "Dwumqme2ozlJ",
        "colab_type": "code",
        "colab": {
          "base_uri": "https://localhost:8080/",
          "height": 34
        },
        "outputId": "f146a81c-04da-4d34-cb2f-72033f9dc804"
      },
      "source": [
        "print(np.shape(vlad))"
      ],
      "execution_count": 51,
      "outputs": [
        {
          "output_type": "stream",
          "text": [
            "(3030, 65536)\n"
          ],
          "name": "stdout"
        }
      ]
    },
    {
      "cell_type": "code",
      "metadata": {
        "id": "L6WUcOH9FLa5",
        "colab_type": "code",
        "colab": {}
      },
      "source": [
        "#100차원으로 줄이기\n",
        "#PCA 적용\n",
        "pca=PCA(n_components=100, svd_solver='randomized', whiten=True)\n",
        "for i in range(len(final_test1)):\n",
        "  final_test1[i]=pca.fit_transform(final_test1[i])\n",
        "\n",
        "print(np.shape(final_test1))\n",
        "\n"
      ],
      "execution_count": 0,
      "outputs": []
    },
    {
      "cell_type": "markdown",
      "metadata": {
        "id": "ULl5fDhgZwic",
        "colab_type": "text"
      },
      "source": [
        ""
      ]
    },
    {
      "cell_type": "code",
      "metadata": {
        "id": "hWRqDfypeEaN",
        "colab_type": "code",
        "colab": {
          "base_uri": "https://localhost:8080/",
          "height": 52
        },
        "outputId": "d0695b17-bca4-4aed-97d8-cbca3351bdfe"
      },
      "source": [
        "print(np.shape(vlad))\n",
        "cnt = 0\n",
        "for i in range(len(vlad[0])):\n",
        "  if vlad[0][i]==0:\n",
        "    cnt+=1\n",
        "print(cnt)"
      ],
      "execution_count": 59,
      "outputs": [
        {
          "output_type": "stream",
          "text": [
            "(3030, 65536)\n",
            "54924\n"
          ],
          "name": "stdout"
        }
      ]
    },
    {
      "cell_type": "code",
      "metadata": {
        "id": "hjGUqygpMM5l",
        "colab_type": "code",
        "colab": {
          "base_uri": "https://localhost:8080/",
          "height": 87
        },
        "outputId": "8f870931-689b-46c2-beb7-27d4973be362"
      },
      "source": [
        "#clf = LinearSVC(random_state=0, C=0.0004304,class_weight='balanced')\n",
        "clf=SVC(kernel='linear')\n",
        "clf.fit(vlad,train_labels)"
      ],
      "execution_count": 69,
      "outputs": [
        {
          "output_type": "execute_result",
          "data": {
            "text/plain": [
              "SVC(C=1.0, cache_size=200, class_weight=None, coef0=0.0,\n",
              "    decision_function_shape='ovr', degree=3, gamma='auto_deprecated',\n",
              "    kernel='linear', max_iter=-1, probability=False, random_state=None,\n",
              "    shrinking=True, tol=0.001, verbose=False)"
            ]
          },
          "metadata": {
            "tags": []
          },
          "execution_count": 69
        }
      ]
    },
    {
      "cell_type": "code",
      "metadata": {
        "id": "Elen4vxnX_Qd",
        "colab_type": "code",
        "colab": {
          "base_uri": "https://localhost:8080/",
          "height": 70
        },
        "outputId": "90d11537-fc99-47fd-f0f2-c977493379e6"
      },
      "source": [
        "print(np.shape(test_des))\n",
        "final_test1=computeSIFT(test_des)\n",
        "print(np.shape(final_test1))"
      ],
      "execution_count": 75,
      "outputs": [
        {
          "output_type": "stream",
          "text": [
            "  0%|          | 2/1692 [00:00<02:02, 13.76it/s]"
          ],
          "name": "stderr"
        },
        {
          "output_type": "stream",
          "text": [
            "(1692,)\n"
          ],
          "name": "stdout"
        },
        {
          "output_type": "stream",
          "text": [
            "100%|██████████| 1692/1692 [01:18<00:00, 21.15it/s]"
          ],
          "name": "stderr"
        },
        {
          "output_type": "stream",
          "text": [
            "(1692,)\n"
          ],
          "name": "stdout"
        },
        {
          "output_type": "stream",
          "text": [
            "\n"
          ],
          "name": "stderr"
        }
      ]
    },
    {
      "cell_type": "code",
      "metadata": {
        "id": "8AKCknLeX1R3",
        "colab_type": "code",
        "colab": {}
      },
      "source": [
        "final_all_test_desc1 = []\n",
        "for i in range(len(final_test1)):\n",
        "    for j in range(final_test1[i].shape[0]):\n",
        "        final_all_test_desc1.append(final_test1[i][j,:])\n",
        "\n",
        "final_all_test_desc1 = np.array(final_all_test_desc1)\n",
        "print(final_all_test_desc1.shape)\n",
        "final_all_test_desc1=pca.fit_transform(final_all_test_desc1)"
      ],
      "execution_count": 0,
      "outputs": []
    },
    {
      "cell_type": "code",
      "metadata": {
        "id": "5LkSOF6UYW6k",
        "colab_type": "code",
        "colab": {
          "base_uri": "https://localhost:8080/",
          "height": 34
        },
        "outputId": "5c1131f0-673e-4c4b-f558-c001c989f743"
      },
      "source": [
        "final_test1=final_all_test_desc1.reshape(1692,1024,100)\n",
        "print(final_test1.shape)"
      ],
      "execution_count": 32,
      "outputs": [
        {
          "output_type": "stream",
          "text": [
            "(1692, 1024, 100)\n"
          ],
          "name": "stdout"
        }
      ]
    },
    {
      "cell_type": "code",
      "metadata": {
        "id": "CbJd8QcsTobj",
        "colab_type": "code",
        "colab": {
          "base_uri": "https://localhost:8080/",
          "height": 34
        },
        "outputId": "d9f3bffd-a309-4000-cabb-5d931ddccc62"
      },
      "source": [
        "vlad_test=[]\n",
        "print(np.shape(final_test1))\n",
        "total=len(final_test1)\n",
        "for i in range(total):\n",
        "  vlad_test.append(VLAD(final_test1[i],kmeans1))"
      ],
      "execution_count": 76,
      "outputs": [
        {
          "output_type": "stream",
          "text": [
            "(1692,)\n"
          ],
          "name": "stdout"
        }
      ]
    },
    {
      "cell_type": "code",
      "metadata": {
        "id": "PGtTG9UqTQHu",
        "colab_type": "code",
        "colab": {
          "base_uri": "https://localhost:8080/",
          "height": 34
        },
        "outputId": "598419e8-5d00-4192-cda8-30bd451e7b27"
      },
      "source": [
        "result=clf.predict(vlad_test)\n",
        "print(result)"
      ],
      "execution_count": 77,
      "outputs": [
        {
          "output_type": "stream",
          "text": [
            "[45 89  7 ... 29 38 35]\n"
          ],
          "name": "stdout"
        }
      ]
    },
    {
      "cell_type": "markdown",
      "metadata": {
        "id": "qFbk_RhQxtWo",
        "colab_type": "text"
      },
      "source": [
        ""
      ]
    },
    {
      "cell_type": "code",
      "metadata": {
        "id": "a_7lBA6aEhMf",
        "colab_type": "code",
        "colab": {}
      },
      "source": [
        "#sift한 파일 저장\n",
        "#with open('/content/drive/My Drive/2019-ml-finalproject/final_histo.pickle','wb') as f:\n",
        "#  pickle.dump(final_histo1,f,pickle.HIGHEST_PROTOCOL)\n",
        "#Load\n",
        "with open('/content/drive/My Drive/2019-ml-finalproject/final_histo.pickle', 'rb') as f:\n",
        "    final_histo = pickle.load(f)"
      ],
      "execution_count": 0,
      "outputs": []
    },
    {
      "cell_type": "code",
      "metadata": {
        "id": "h10VGze_45yA",
        "colab_type": "code",
        "outputId": "85a558e3-e814-47f5-b51d-c80521f4816a",
        "colab": {
          "base_uri": "https://localhost:8080/",
          "height": 192
        }
      },
      "source": [
        "\n",
        "clf.fit(train_histo, train_label)"
      ],
      "execution_count": 0,
      "outputs": [
        {
          "output_type": "error",
          "ename": "NameError",
          "evalue": "ignored",
          "traceback": [
            "\u001b[0;31m---------------------------------------------------------------------------\u001b[0m",
            "\u001b[0;31mNameError\u001b[0m                                 Traceback (most recent call last)",
            "\u001b[0;32m<ipython-input-12-85a6344ee752>\u001b[0m in \u001b[0;36m<module>\u001b[0;34m()\u001b[0m\n\u001b[1;32m      1\u001b[0m \u001b[0;34m\u001b[0m\u001b[0m\n\u001b[0;32m----> 2\u001b[0;31m \u001b[0mclf\u001b[0m\u001b[0;34m.\u001b[0m\u001b[0mfit\u001b[0m\u001b[0;34m(\u001b[0m\u001b[0mtrain_histo\u001b[0m\u001b[0;34m,\u001b[0m \u001b[0mtrain_label\u001b[0m\u001b[0;34m)\u001b[0m\u001b[0;34m\u001b[0m\u001b[0;34m\u001b[0m\u001b[0m\n\u001b[0m",
            "\u001b[0;31mNameError\u001b[0m: name 'clf' is not defined"
          ]
        }
      ]
    },
    {
      "cell_type": "code",
      "metadata": {
        "id": "PQ-lQ7yACSza",
        "colab_type": "code",
        "outputId": "36cc513b-120a-4b9f-c2f6-aa9850863cd3",
        "colab": {
          "base_uri": "https://localhost:8080/",
          "height": 146
        }
      },
      "source": [
        "clf = LinearSVC(random_state=0, C=0.0004304,class_weight='balanced')\n",
        "clf.fit(final_histo1,final_label1)"
      ],
      "execution_count": 0,
      "outputs": [
        {
          "output_type": "stream",
          "text": [
            "/usr/local/lib/python3.6/dist-packages/sklearn/svm/base.py:929: ConvergenceWarning: Liblinear failed to converge, increase the number of iterations.\n",
            "  \"the number of iterations.\", ConvergenceWarning)\n"
          ],
          "name": "stderr"
        },
        {
          "output_type": "execute_result",
          "data": {
            "text/plain": [
              "LinearSVC(C=0.0004304, class_weight='balanced', dual=True, fit_intercept=True,\n",
              "          intercept_scaling=1, loss='squared_hinge', max_iter=1000,\n",
              "          multi_class='ovr', penalty='l2', random_state=0, tol=0.0001,\n",
              "          verbose=0)"
            ]
          },
          "metadata": {
            "tags": []
          },
          "execution_count": 102
        }
      ]
    },
    {
      "cell_type": "code",
      "metadata": {
        "id": "laPZGEDmZ6MH",
        "colab_type": "code",
        "outputId": "9a03373c-824b-491b-9768-b09a646d2e3d",
        "colab": {
          "base_uri": "https://localhost:8080/",
          "height": 35
        }
      },
      "source": [
        "\n",
        "print(final_histo1.shape)"
      ],
      "execution_count": 0,
      "outputs": [
        {
          "output_type": "stream",
          "text": [
            "(3060, 16)\n"
          ],
          "name": "stdout"
        }
      ]
    },
    {
      "cell_type": "code",
      "metadata": {
        "id": "_1cQQxdxzHFz",
        "colab_type": "code",
        "outputId": "910dda6e-b8bf-45a7-8f78-0518676923bc",
        "colab": {
          "base_uri": "https://localhost:8080/",
          "height": 89
        }
      },
      "source": [
        "print(final_clf)"
      ],
      "execution_count": 0,
      "outputs": [
        {
          "output_type": "stream",
          "text": [
            "SVC(C=1, cache_size=200, class_weight=None, coef0=0.0,\n",
            "    decision_function_shape='ovr', degree=3, gamma='auto_deprecated',\n",
            "    kernel='precomputed', max_iter=-1, probability=False, random_state=None,\n",
            "    shrinking=True, tol=0.001, verbose=False)\n"
          ],
          "name": "stdout"
        }
      ]
    },
    {
      "cell_type": "markdown",
      "metadata": {
        "id": "G6pYtnmT_WqM",
        "colab_type": "text"
      },
      "source": [
        ""
      ]
    },
    {
      "cell_type": "code",
      "metadata": {
        "id": "Lhkpx7uMUvOn",
        "colab_type": "code",
        "outputId": "e040c9b9-5f81-4543-845c-d14ee897c2f1",
        "colab": {
          "base_uri": "https://localhost:8080/",
          "height": 34
        }
      },
      "source": [
        "print(kmeans1.cluster_centers_.shape)"
      ],
      "execution_count": 0,
      "outputs": [
        {
          "output_type": "stream",
          "text": [
            "(200, 128)\n"
          ],
          "name": "stdout"
        }
      ]
    },
    {
      "cell_type": "code",
      "metadata": {
        "id": "RGgjGiGf_Xhm",
        "colab_type": "code",
        "colab": {}
      },
      "source": [
        "k=200\n",
        "final_histo1=getHistogramSPM(2,train_des,kmeans1,k)"
      ],
      "execution_count": 0,
      "outputs": []
    },
    {
      "cell_type": "code",
      "metadata": {
        "id": "0nR4VL-pas5_",
        "colab_type": "code",
        "colab": {}
      },
      "source": [
        "#sift한 파일 저장\n",
        "'''\n",
        "with open('/content/drive/My Drive/2019-ml-finalproject/final_histo1.pickle','wb') as f:\n",
        "  pickle.dump(final_histo1,f,pickle.HIGHEST_PROTOCOL)\n",
        "with open('/content/drive/My Drive/2019-ml-finalproject/final_test_histo1.pickle','wb') as f:\n",
        "  pickle.dump(final_test_histo1,f,pickle.HIGHEST_PROTOCOL)\n",
        "'''\n",
        "#Load\n",
        "#피클사용 로드 정규화 안된거.\n",
        "with open('/content/drive/My Drive/2019-ml-finalproject/final_histo1.pickle', 'rb') as f:\n",
        "    final_histo1 = pickle.load(f)\n",
        "with open('/content/drive/My Drive/2019-ml-finalproject/final_test_histo1.pickle', 'rb') as f:\n",
        "    final_test_histo1 = pickle.load(f)"
      ],
      "execution_count": 0,
      "outputs": []
    },
    {
      "cell_type": "code",
      "metadata": {
        "id": "dCSdc8bqUO_g",
        "colab_type": "code",
        "colab": {}
      },
      "source": [
        "#histo한 파일 저장 - 정규화된거 step8\n",
        "\n",
        "with open('/content/drive/My Drive/2019-ml-finalproject/final_histo2.pickle','wb') as f:\n",
        "  pickle.dump(final_histo1,f,pickle.HIGHEST_PROTOCOL)\n",
        "with open('/content/drive/My Drive/2019-ml-finalproject/final_test_histo2.pickle','wb') as f:\n",
        "  pickle.dump(final_test_histo1,f,pickle.HIGHEST_PROTOCOL)\n",
        "\n",
        "#Load\n",
        "#피클사용 로드 정규화 된거\n",
        "with open('/content/drive/My Drive/2019-ml-finalproject/final_histo2.pickle', 'rb') as f:\n",
        "    final_histo1 = pickle.load(f)\n",
        "with open('/content/drive/My Drive/2019-ml-finalproject/final_test_histo2.pickle', 'rb') as f:\n",
        "    final_test_histo1 = pickle.load(f)"
      ],
      "execution_count": 0,
      "outputs": []
    },
    {
      "cell_type": "code",
      "metadata": {
        "id": "WGYVQdw3RAB-",
        "colab_type": "code",
        "colab": {}
      },
      "source": [
        "print(final_histo1[6])"
      ],
      "execution_count": 0,
      "outputs": []
    },
    {
      "cell_type": "code",
      "metadata": {
        "id": "A4VIUvcmHtMC",
        "colab_type": "code",
        "outputId": "4502a3f1-12b0-4bbb-87f7-723abaaf9d0b",
        "colab": {
          "base_uri": "https://localhost:8080/",
          "height": 34
        }
      },
      "source": [
        "#Testing Load\n",
        "print(final_histo1.shape)"
      ],
      "execution_count": 0,
      "outputs": [
        {
          "output_type": "stream",
          "text": [
            "(3030, 600)\n"
          ],
          "name": "stdout"
        }
      ]
    },
    {
      "cell_type": "markdown",
      "metadata": {
        "id": "59T0Ruvr-SWX",
        "colab_type": "text"
      },
      "source": [
        "실제데이터 테스트"
      ]
    },
    {
      "cell_type": "code",
      "metadata": {
        "id": "si3aln-ZJSad",
        "colab_type": "code",
        "outputId": "eccce5fc-cdc2-4619-a77d-953428d1396e",
        "colab": {
          "base_uri": "https://localhost:8080/",
          "height": 34
        }
      },
      "source": [
        "DATA_ROOT_TEST = \"/content/drive/My Drive/2019-ml-finalproject/testAll_v2\"\n",
        "test_des=list()\n",
        "img_list = os.listdir(DATA_ROOT_TEST)\n",
        "print(len(img_list))\n",
        "img_list.sort()"
      ],
      "execution_count": 57,
      "outputs": [
        {
          "output_type": "stream",
          "text": [
            "1692\n"
          ],
          "name": "stdout"
        }
      ]
    },
    {
      "cell_type": "code",
      "metadata": {
        "id": "b-C0Wz6l7fpo",
        "colab_type": "code",
        "outputId": "3e2568dc-9b9b-43cc-f5ee-dc3b12b0ce96",
        "colab": {
          "base_uri": "https://localhost:8080/",
          "height": 34
        }
      },
      "source": [
        "test_des=[]\n",
        "for img in tqdm(img_list):\n",
        "  image=cv2.imread(DATA_ROOT_TEST+'/'+img)\n",
        "  gray=cv2.cvtColor(image,cv2.COLOR_BGR2GRAY)\n",
        "  dst = gray.copy() \n",
        "  roi = gray[8:np.shape(gray)[0]-8, 8:np.shape(gray)[1]-8]\n",
        "  test_des.append(roi)"
      ],
      "execution_count": 74,
      "outputs": [
        {
          "output_type": "stream",
          "text": [
            "100%|██████████| 1692/1692 [00:06<00:00, 258.49it/s]\n"
          ],
          "name": "stderr"
        }
      ]
    },
    {
      "cell_type": "code",
      "metadata": {
        "id": "kXh9bxxhA4jz",
        "colab_type": "code",
        "colab": {
          "base_uri": "https://localhost:8080/",
          "height": 34
        },
        "outputId": "241b9255-3b8e-4074-a4c6-93adc3fc0f0c"
      },
      "source": [
        "print(np.shape(test_des))"
      ],
      "execution_count": 27,
      "outputs": [
        {
          "output_type": "stream",
          "text": [
            "(1692, 256, 256)\n"
          ],
          "name": "stdout"
        }
      ]
    },
    {
      "cell_type": "code",
      "metadata": {
        "id": "4Qhw4GyuGig8",
        "colab_type": "code",
        "colab": {}
      },
      "source": [
        "#sift한 파일 저장\n",
        "#with open('/content/drive/My Drive/2019-ml-finalproject/test_des.pickle','wb') as f:\n",
        "#  pickle.dump(test_des,f,pickle.HIGHEST_PROTOCOL)\n",
        "#Load\n",
        "with open('/content/drive/My Drive/2019-ml-finalproject/test_des.pickle', 'rb') as f:\n",
        "    test_des = pickle.load(f)\n",
        "    "
      ],
      "execution_count": 0,
      "outputs": []
    },
    {
      "cell_type": "code",
      "metadata": {
        "id": "u0iLVHFd1uEJ",
        "colab_type": "code",
        "colab": {}
      },
      "source": [
        "#sift한 파일 저장 256 256\n",
        "#with open('/content/drive/My Drive/2019-ml-finalproject/test_des1.pickle','wb') as f:\n",
        "#  pickle.dump(test_des,f,pickle.HIGHEST_PROTOCOL)\n",
        "#Load\n",
        "with open('/content/drive/My Drive/2019-ml-finalproject/test_des1.pickle', 'rb') as f:\n",
        "    test_des = pickle.load(f)\n",
        "    "
      ],
      "execution_count": 0,
      "outputs": []
    },
    {
      "cell_type": "code",
      "metadata": {
        "id": "jGKV6ADb-QIx",
        "colab_type": "code",
        "outputId": "b525daa1-9a83-43ce-a732-d3770e4cf8c3",
        "colab": {
          "base_uri": "https://localhost:8080/",
          "height": 34
        }
      },
      "source": [
        "print(np.shape(test_des[2]))"
      ],
      "execution_count": 188,
      "outputs": [
        {
          "output_type": "stream",
          "text": [
            "(274, 300)\n"
          ],
          "name": "stdout"
        }
      ]
    },
    {
      "cell_type": "code",
      "metadata": {
        "id": "BjMkArLKN7Dh",
        "colab_type": "code",
        "outputId": "61e916b5-e0f5-4d96-f5e0-1dd068bad94e",
        "colab": {
          "base_uri": "https://localhost:8080/",
          "height": 87
        }
      },
      "source": [
        "clf = LinearSVC(random_state=0, C=0.0004304,class_weight='balanced')\n",
        "clf.fit(final_histo1, final_label1)"
      ],
      "execution_count": 0,
      "outputs": [
        {
          "output_type": "execute_result",
          "data": {
            "text/plain": [
              "LinearSVC(C=0.0004304, class_weight='balanced', dual=True, fit_intercept=True,\n",
              "          intercept_scaling=1, loss='squared_hinge', max_iter=1000,\n",
              "          multi_class='ovr', penalty='l2', random_state=0, tol=0.0001,\n",
              "          verbose=0)"
            ]
          },
          "metadata": {
            "tags": []
          },
          "execution_count": 148
        }
      ]
    },
    {
      "cell_type": "code",
      "metadata": {
        "id": "6doYCr_xYMq5",
        "colab_type": "code",
        "colab": {}
      },
      "source": [
        "result=clf.predict(final_test_histo1)\n",
        "print(result)"
      ],
      "execution_count": 0,
      "outputs": []
    },
    {
      "cell_type": "code",
      "metadata": {
        "id": "I6I_l6xzGQny",
        "colab_type": "code",
        "colab": {}
      },
      "source": [
        "#with open('/content/drive/My Drive/2019-ml-finalproject/realtest_histo.pickle','wb') as f:\n",
        "#  pickle.dump(realtest_histo,f,pickle.HIGHEST_PROTOCOL)\n",
        "#Load\n",
        "with open('/content/drive/My Drive/2019-ml-finalproject/realtest_histo.pickle', 'rb') as f:\n",
        "    realtest_histo = pickle.load(f)"
      ],
      "execution_count": 0,
      "outputs": []
    },
    {
      "cell_type": "code",
      "metadata": {
        "id": "Er1Wcy3kOYrD",
        "colab_type": "code",
        "outputId": "398b9c0c-07e4-4373-ea82-3216f14bc4b6",
        "colab": {
          "base_uri": "https://localhost:8080/",
          "height": 34
        }
      },
      "source": [
        "clf = LinearSVC(C=0.006304,class_weight='balanced')\n",
        "clf.fit(final_histo1,train_labels)\n",
        "result=clf.predict(final_test_histo1)\n",
        "#result=final_clf.predict(realtest_histo)\n",
        "print(result)"
      ],
      "execution_count": 0,
      "outputs": [
        {
          "output_type": "stream",
          "text": [
            "[45 89 63 ... 29 38 35]\n"
          ],
          "name": "stdout"
        }
      ]
    },
    {
      "cell_type": "code",
      "metadata": {
        "id": "pUCBrV9CrCRQ",
        "colab_type": "code",
        "outputId": "ea4004b5-f24f-41e3-fb36-4d934dfcb18a",
        "colab": {
          "base_uri": "https://localhost:8080/",
          "height": 34
        }
      },
      "source": [
        "print(result)"
      ],
      "execution_count": 35,
      "outputs": [
        {
          "output_type": "stream",
          "text": [
            "[45 19 27 ... 29 50 28]\n"
          ],
          "name": "stdout"
        }
      ]
    },
    {
      "cell_type": "markdown",
      "metadata": {
        "id": "bMDe6g-FOZJE",
        "colab_type": "text"
      },
      "source": [
        "csv로 파일 만들기\n"
      ]
    },
    {
      "cell_type": "code",
      "metadata": {
        "id": "_LALPUmyOc6w",
        "colab_type": "code",
        "outputId": "4d7f1cbf-c4e4-490d-bcdb-67d6b79b594a",
        "colab": {
          "base_uri": "https://localhost:8080/",
          "height": 140
        }
      },
      "source": [
        "result = result.reshape(-1,1)\n",
        "result_img_list=np.array(img_list).reshape(-1,1)\n",
        "total_result = np.hstack([result_img_list,result])\n",
        "\n",
        "print(result)"
      ],
      "execution_count": 78,
      "outputs": [
        {
          "output_type": "stream",
          "text": [
            "[[45]\n",
            " [89]\n",
            " [ 7]\n",
            " ...\n",
            " [29]\n",
            " [38]\n",
            " [35]]\n"
          ],
          "name": "stdout"
        }
      ]
    },
    {
      "cell_type": "code",
      "metadata": {
        "id": "TROaIqoSOvvE",
        "colab_type": "code",
        "colab": {}
      },
      "source": [
        "df=pd.DataFrame(total_result,columns=[\"id\",\"Category\"])\n",
        "df.to_csv('results-jaeung.csv',index=False,header=True)"
      ],
      "execution_count": 0,
      "outputs": []
    },
    {
      "cell_type": "code",
      "metadata": {
        "id": "2fE48ZUFHL4r",
        "colab_type": "code",
        "outputId": "efc458ba-092b-4090-9052-90ce85324102",
        "colab": {
          "base_uri": "https://localhost:8080/",
          "height": 457
        }
      },
      "source": [
        "\n",
        "!ls -lha kaggle.json\n",
        "\n",
        "!pip uninstall -y kaggle\n",
        "!pip install --upgrade pip\n",
        "!pip install kaggle==1.5.6\n",
        "\n",
        "# 캐글연동을 위한 토큰 입력\n",
        "! mkdir -p ~/.kaggle\n",
        "! cp kaggle.json ~/.kaggle/\n",
        "! chmod 600 ~/.kaggle/kaggle.json\n",
        "\n",
        "\n",
        "# 버전이 1.5.6 이 아니면, 진행할 수 없다\n",
        "! kaggle -v\n"
      ],
      "execution_count": 39,
      "outputs": [
        {
          "output_type": "stream",
          "text": [
            "-rw-r--r-- 1 root root 64 Dec 14 12:13 kaggle.json\n",
            "Uninstalling kaggle-1.5.6:\n",
            "  Successfully uninstalled kaggle-1.5.6\n",
            "Requirement already up-to-date: pip in /usr/local/lib/python3.6/dist-packages (19.3.1)\n",
            "Collecting kaggle==1.5.6\n",
            "\u001b[?25l  Downloading https://files.pythonhosted.org/packages/62/ab/bb20f9b9e24f9a6250f95a432f8d9a7d745f8d24039d7a5a6eaadb7783ba/kaggle-1.5.6.tar.gz (58kB)\n",
            "\u001b[K     |████████████████████████████████| 61kB 3.1MB/s \n",
            "\u001b[?25hRequirement already satisfied: urllib3<1.25,>=1.21.1 in /usr/local/lib/python3.6/dist-packages (from kaggle==1.5.6) (1.24.3)\n",
            "Requirement already satisfied: six>=1.10 in /usr/local/lib/python3.6/dist-packages (from kaggle==1.5.6) (1.12.0)\n",
            "Requirement already satisfied: certifi in /usr/local/lib/python3.6/dist-packages (from kaggle==1.5.6) (2019.11.28)\n",
            "Requirement already satisfied: python-dateutil in /usr/local/lib/python3.6/dist-packages (from kaggle==1.5.6) (2.6.1)\n",
            "Requirement already satisfied: requests in /usr/local/lib/python3.6/dist-packages (from kaggle==1.5.6) (2.21.0)\n",
            "Requirement already satisfied: tqdm in /usr/local/lib/python3.6/dist-packages (from kaggle==1.5.6) (4.28.1)\n",
            "Requirement already satisfied: python-slugify in /usr/local/lib/python3.6/dist-packages (from kaggle==1.5.6) (4.0.0)\n",
            "Requirement already satisfied: idna<2.9,>=2.5 in /usr/local/lib/python3.6/dist-packages (from requests->kaggle==1.5.6) (2.8)\n",
            "Requirement already satisfied: chardet<3.1.0,>=3.0.2 in /usr/local/lib/python3.6/dist-packages (from requests->kaggle==1.5.6) (3.0.4)\n",
            "Requirement already satisfied: text-unidecode>=1.3 in /usr/local/lib/python3.6/dist-packages (from python-slugify->kaggle==1.5.6) (1.3)\n",
            "Building wheels for collected packages: kaggle\n",
            "  Building wheel for kaggle (setup.py) ... \u001b[?25l\u001b[?25hdone\n",
            "  Created wheel for kaggle: filename=kaggle-1.5.6-cp36-none-any.whl size=72859 sha256=4430df4a857a02223c720285d567dcef23dbe55a5684e78326f23cd022b644fc\n",
            "  Stored in directory: /root/.cache/pip/wheels/57/4e/e8/bb28d035162fb8f17f8ca5d42c3230e284c6aa565b42b72674\n",
            "Successfully built kaggle\n",
            "Installing collected packages: kaggle\n",
            "Successfully installed kaggle-1.5.6\n",
            "Kaggle API 1.5.6\n"
          ],
          "name": "stdout"
        }
      ]
    },
    {
      "cell_type": "code",
      "metadata": {
        "id": "CyM0YuAsO8i1",
        "colab_type": "code",
        "outputId": "b9cca7a5-5e3e-4974-ddcb-8f70ae3cc33d",
        "colab": {
          "base_uri": "https://localhost:8080/",
          "height": 52
        }
      },
      "source": [
        "#kaggle 로 제출과정\n",
        "\n",
        "! kaggle competitions submit -c 2019-ml-finalproject -f results-jaeung.csv -m \"jaeung\"\n",
        "\n",
        "\n",
        "\n"
      ],
      "execution_count": 83,
      "outputs": [
        {
          "output_type": "stream",
          "text": [
            "100% 29.6k/29.6k [00:02<00:00, 11.1kB/s]\n",
            "Successfully submitted to 2019.Fall.PatternRecognition "
          ],
          "name": "stdout"
        }
      ]
    }
  ]
}