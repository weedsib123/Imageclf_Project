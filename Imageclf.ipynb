{
  "nbformat": 4,
  "nbformat_minor": 0,
  "metadata": {
    "colab": {
      "name": "Imageclf.ipynb",
      "provenance": [],
      "collapsed_sections": []
    },
    "kernelspec": {
      "name": "python3",
      "display_name": "Python 3"
    }
  },
  "cells": [
    {
      "cell_type": "code",
      "metadata": {
        "id": "oKaRTKe7lzCb",
        "colab_type": "code",
        "colab": {}
      },
      "source": [
        "! yes | pip3 uninstall opencv-python\n",
        "! yes | pip3 uninstall opencv-contrib-python\n",
        "! yes | pip3 install opencv-python==3.4.2.16\n",
        "! yes | pip3 install opencv-contrib-python==3.4.2.16 "
      ],
      "execution_count": 0,
      "outputs": []
    },
    {
      "cell_type": "code",
      "metadata": {
        "id": "kFGz-DSpl-T_",
        "colab_type": "code",
        "colab": {}
      },
      "source": [
        "#Connect to Goole Mount\n",
        "from google.colab import drive\n",
        "drive.mount('/content/drive')"
      ],
      "execution_count": 0,
      "outputs": []
    },
    {
      "cell_type": "code",
      "metadata": {
        "id": "7PfdNc1TmAve",
        "colab_type": "code",
        "colab": {}
      },
      "source": [
        "#for using GPU, Install kmc2\n",
        "!pip install kmc2"
      ],
      "execution_count": 0,
      "outputs": []
    },
    {
      "cell_type": "code",
      "metadata": {
        "id": "V5Efzy6TmM6Y",
        "colab_type": "code",
        "colab": {}
      },
      "source": [
        "from sklearn.model_selection import train_test_split\n",
        "from imutils import paths\n",
        "import numpy as np\n",
        "import imutils \n",
        "import cv2 \n",
        "import os\n",
        "import pandas as pd\n",
        "from tqdm import tqdm\n",
        "import matplotlib.pyplot as plt\n",
        "import copy\n",
        "import pickle\n",
        "from sklearn.cluster import KMeans\n",
        "from sklearn.svm import LinearSVC\n",
        "from sklearn import preprocessing\n",
        "#from libKMCUDA import kmeans_cuda # kmeans-gpu 사용 --> not installed"
      ],
      "execution_count": 0,
      "outputs": []
    },
    {
      "cell_type": "code",
      "metadata": {
        "id": "FXqesVHPmdq3",
        "colab_type": "code",
        "colab": {}
      },
      "source": [
        "파일처리 해주기 \n",
        "Label과 Data  매칭시키기"
      ],
      "execution_count": 0,
      "outputs": []
    },
    {
      "cell_type": "code",
      "metadata": {
        "id": "HRXcnCZwmUsQ",
        "colab_type": "code",
        "colab": {}
      },
      "source": [
        "df_data=pd.read_csv('/content/drive/My Drive/2019-ml-finalproject/Label2Names.csv',header=None)\n",
        "\n",
        "DATA_ROOT_TRAIN=\"/content/drive/My Drive/2019-ml-finalproject/train\"\n",
        "train_des=list()\n",
        "train_labels=list()\n",
        "\n",
        "for cls in tqdm(os.listdir(DATA_ROOT_TRAIN)): #진행도를 알려줌\n",
        "  img_list = os.listdir(DATA_ROOT_TRAIN+'/'+cls)\n",
        "  \n",
        "  if cls == 'BACKGROUND_Google' :\n",
        "    label= 101\n",
        "  else :\n",
        "    label=(df_data.index[df_data[1]==cls]+1).tolist()[0]\n",
        "    '''\n",
        "  이미지 잘들어있는지 확인\n",
        "  if len(img_list) != 30:\n",
        "   print(cls)\n",
        "   print(len(img_list)) -> 2750장 -> 3060장으로 바꿈\n",
        "   '''\n",
        "  for img in img_list:  \n",
        "    image=cv2.imread(DATA_ROOT_TRAIN+'/'+cls+'/'+img)\n",
        "    gray=cv2.cvtColor(image,cv2.COLOR_BGR2GRAY)\n",
        "    train_des.append(gray)\n",
        "    train_labels.append(label)\n",
        "\n",
        "\n"
      ],
      "execution_count": 0,
      "outputs": []
    },
    {
      "cell_type": "code",
      "metadata": {
        "id": "eakj-PMm6-L7",
        "colab_type": "code",
        "colab": {}
      },
      "source": [
        "#피클사용 저장\n",
        "#with open('/content/drive/My Drive/2019-ml-finalproject/train_labels.pickle','wb') as f:\n",
        "#  pickle.dump(train_labels,f,pickle.HIGHEST_PROTOCOL)\n",
        "#with open('/content/drive/My Drive/2019-ml-finalproject/train_des.pickle','wb') as f:\n",
        "  pickle.dump(train_des,f,pickle.HIGHEST_PROTOCOL)\n",
        "#print(np.shape(train_labels))\n"
      ],
      "execution_count": 0,
      "outputs": []
    },
    {
      "cell_type": "code",
      "metadata": {
        "id": "gwd17LpL6_Iq",
        "colab_type": "code",
        "colab": {
          "base_uri": "https://localhost:8080/",
          "height": 221
        },
        "outputId": "2a482748-caa0-4028-ab0c-8e7abe1370f8"
      },
      "source": [
        "#피클사용 로드\n",
        "with open('/content/drive/My Drive/2019-ml-finalproject/train_labels.pickle', 'rb') as f:\n",
        "    train_labels1 = pickle.load(f)\n",
        "with open('/content/drive/My Drive/2019-ml-finalproject/train_des.pickle', 'rb') as f:\n",
        "    train_des1 = pickle.load(f)"
      ],
      "execution_count": 1,
      "outputs": [
        {
          "output_type": "error",
          "ename": "FileNotFoundError",
          "evalue": "ignored",
          "traceback": [
            "\u001b[0;31m---------------------------------------------------------------------------\u001b[0m",
            "\u001b[0;31mFileNotFoundError\u001b[0m                         Traceback (most recent call last)",
            "\u001b[0;32m<ipython-input-1-337840039c87>\u001b[0m in \u001b[0;36m<module>\u001b[0;34m()\u001b[0m\n\u001b[0;32m----> 1\u001b[0;31m \u001b[0;32mwith\u001b[0m \u001b[0mopen\u001b[0m\u001b[0;34m(\u001b[0m\u001b[0;34m'/content/drive/My Drive/2019-ml-finalproject/train_labels.pickle'\u001b[0m\u001b[0;34m,\u001b[0m \u001b[0;34m'rb'\u001b[0m\u001b[0;34m)\u001b[0m \u001b[0;32mas\u001b[0m \u001b[0mf\u001b[0m\u001b[0;34m:\u001b[0m\u001b[0;34m\u001b[0m\u001b[0;34m\u001b[0m\u001b[0m\n\u001b[0m\u001b[1;32m      2\u001b[0m     \u001b[0mtrain_labels1\u001b[0m \u001b[0;34m=\u001b[0m \u001b[0mpickle\u001b[0m\u001b[0;34m.\u001b[0m\u001b[0mload\u001b[0m\u001b[0;34m(\u001b[0m\u001b[0mf\u001b[0m\u001b[0;34m)\u001b[0m\u001b[0;34m\u001b[0m\u001b[0;34m\u001b[0m\u001b[0m\n\u001b[1;32m      3\u001b[0m \u001b[0;32mwith\u001b[0m \u001b[0mopen\u001b[0m\u001b[0;34m(\u001b[0m\u001b[0;34m'/content/drive/My Drive/2019-ml-finalproject/train_des.pickle'\u001b[0m\u001b[0;34m,\u001b[0m \u001b[0;34m'rb'\u001b[0m\u001b[0;34m)\u001b[0m \u001b[0;32mas\u001b[0m \u001b[0mf\u001b[0m\u001b[0;34m:\u001b[0m\u001b[0;34m\u001b[0m\u001b[0;34m\u001b[0m\u001b[0m\n\u001b[1;32m      4\u001b[0m     \u001b[0mtrain_des1\u001b[0m \u001b[0;34m=\u001b[0m \u001b[0mpickle\u001b[0m\u001b[0;34m.\u001b[0m\u001b[0mload\u001b[0m\u001b[0;34m(\u001b[0m\u001b[0mf\u001b[0m\u001b[0;34m)\u001b[0m\u001b[0;34m\u001b[0m\u001b[0;34m\u001b[0m\u001b[0m\n",
            "\u001b[0;31mFileNotFoundError\u001b[0m: [Errno 2] No such file or directory: '/content/drive/My Drive/2019-ml-finalproject/train_labels.pickle'"
          ]
        }
      ]
    },
    {
      "cell_type": "code",
      "metadata": {
        "id": "hdnj00sxiaLZ",
        "colab_type": "code",
        "colab": {}
      },
      "source": [
        "#SIFT 계산\n",
        "def computeSIFT(data):\n",
        "    x = []\n",
        "    for i in range(0, len(data)):\n",
        "        sift = cv2.xfeatures2d.SIFT_create()\n",
        "        img = data[i]\n",
        "        step_size = 8 # stepsize : 8  range kp 설정.\n",
        "        kp = [cv2.KeyPoint(x, y, step_size) for x in range(16, img.shape[0]-16, step_size) for y in range(16, img.shape[1]-16, step_size)]\n",
        "        #keypoints, descriptors = sift.detectAndCompute(img, kp)\n",
        "        dense_feat = sift.compute(img, kp) \n",
        "        x.append(dense_feat[1]) #description 값 계산\n",
        "        #weak feature --> 나쁜성능\n",
        "        #keypoints, descriptors = sift.detectAndCompute(img, None)\n",
        "        #x.append(descriptors)\n",
        "    return x"
      ],
      "execution_count": 0,
      "outputs": []
    },
    {
      "cell_type": "markdown",
      "metadata": {
        "id": "TUvUUpvzfy0l",
        "colab_type": "text"
      },
      "source": [
        "출력 kaggle 등록 및 제출\n"
      ]
    },
    {
      "cell_type": "code",
      "metadata": {
        "id": "ToUQGUZCf9I6",
        "colab_type": "code",
        "colab": {}
      },
      "source": [
        "result = result.reshape(-1,1)\n",
        "result_img_list=np.array(img_list).reshape(-1,1)\n",
        "total_result = np.hstack([result_img_list,result])\n",
        "\n",
        "print(result)"
      ],
      "execution_count": 0,
      "outputs": []
    },
    {
      "cell_type": "code",
      "metadata": {
        "id": "pxmIdZc8f9PJ",
        "colab_type": "code",
        "colab": {}
      },
      "source": [
        "#pands 이용해 변환\n",
        "df=pd.DataFrame(total_result,columns=[\"id\",\"Category\"])\n",
        "df.to_csv('results-jaeung.csv',index=False,header=True)"
      ],
      "execution_count": 0,
      "outputs": []
    },
    {
      "cell_type": "code",
      "metadata": {
        "id": "BhDEfHZTf2jB",
        "colab_type": "code",
        "colab": {}
      },
      "source": [
        "\n",
        "!ls -lha kaggle.json\n",
        "\n",
        "!pip uninstall -y kaggle\n",
        "!pip install --upgrade pip\n",
        "!pip install kaggle==1.5.6\n",
        "\n",
        "# 캐글연동을 위한 토큰 입력\n",
        "! mkdir -p ~/.kaggle\n",
        "! cp kaggle.json ~/.kaggle/\n",
        "! chmod 600 ~/.kaggle/kaggle.json\n",
        "\n",
        "\n",
        "# 버전이 1.5.6 이 아니면, 진행할 수 없다\n",
        "! kaggle -v\n"
      ],
      "execution_count": 0,
      "outputs": []
    },
    {
      "cell_type": "code",
      "metadata": {
        "id": "0QcQdwrXf5Dq",
        "colab_type": "code",
        "colab": {}
      },
      "source": [
        "#kaggle 로 제출과정\n",
        "\n",
        "! kaggle competitions submit -c 2019-ml-finalproject -f results-jaeung.csv -m \"jaeung\"\n",
        "\n",
        "\n"
      ],
      "execution_count": 0,
      "outputs": []
    }
  ]
}